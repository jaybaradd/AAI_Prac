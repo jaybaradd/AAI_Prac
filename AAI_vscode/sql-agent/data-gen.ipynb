{
 "cells": [
  {
   "cell_type": "code",
   "execution_count": 1,
   "metadata": {},
   "outputs": [
    {
     "name": "stdout",
     "output_type": "stream",
     "text": [
      "Collecting faker\n",
      "  Downloading Faker-28.4.1-py3-none-any.whl.metadata (15 kB)\n",
      "Requirement already satisfied: python-dateutil>=2.4 in /Users/rushikesh/anaconda3/envs/AAI_PR/lib/python3.11/site-packages (from faker) (2.9.0.post0)\n",
      "Requirement already satisfied: six>=1.5 in /Users/rushikesh/anaconda3/envs/AAI_PR/lib/python3.11/site-packages (from python-dateutil>=2.4->faker) (1.16.0)\n",
      "Downloading Faker-28.4.1-py3-none-any.whl (1.8 MB)\n",
      "\u001b[2K   \u001b[90m━━━━━━━━━━━━━━━━━━━━━━━━━━━━━━━━━━━━━━━━\u001b[0m \u001b[32m1.8/1.8 MB\u001b[0m \u001b[31m76.6 kB/s\u001b[0m eta \u001b[36m0:00:00\u001b[0ma \u001b[36m0:00:04\u001b[0mm\n",
      "\u001b[?25hInstalling collected packages: faker\n",
      "Successfully installed faker-28.4.1\n",
      "Note: you may need to restart the kernel to use updated packages.\n"
     ]
    }
   ],
   "source": [
    "%pip install faker"
   ]
  },
  {
   "cell_type": "code",
   "execution_count": 1,
   "metadata": {},
   "outputs": [],
   "source": [
    "import csv  \n",
    "import os  \n",
    "from faker import Faker  \n",
    "  \n",
    "fake = Faker()  \n",
    "  \n",
    "# Create fake data for employees  \n",
    "with open('employees.csv', 'w', newline='') as file:  \n",
    "    writer = csv.writer(file)  \n",
    "    writer.writerow([\"ID\", \"Name\", \"Age\", \"Gender\", \"Salary\", \"Email\", \"Address\", \"Phone_Number\", \"Date_of_Birth\", \"Start_Date\"])  \n",
    "    for i in range(1, 101):  \n",
    "        writer.writerow([i, fake.name(), fake.random_int(min=20, max=60), fake.random_element(elements=('Male', 'Female')), fake.pydecimal(left_digits=5, right_digits=2, positive=True), fake.email(), fake.address(), fake.phone_number(), fake.date_of_birth(minimum_age=20, maximum_age=60), fake.date_this_century(before_today=True, after_today=False)])  \n",
    "  \n",
    "# Create fake data for departments  \n",
    "with open('departments.csv', 'w', newline='') as file:  \n",
    "    writer = csv.writer(file)  \n",
    "    writer.writerow([\"ID\", \"Department_Name\", \"Employee_ID\", \"Location\", \"Budget\", \"Phone_Number\", \"Email\", \"Manager_Name\", \"Number_of_Employees\", \"Founded_Date\"])  \n",
    "    for i in range(1, 21):  \n",
    "        writer.writerow([i, fake.job(), fake.random_int(min=1, max=100), fake.address(), fake.pydecimal(left_digits=7, right_digits=2, positive=True), fake.phone_number(), fake.company_email(), fake.name(), fake.random_int(min=10, max=100), fake.date_this_century(before_today=True, after_today=False)])  \n",
    "  \n",
    "# Create fake data for expenses  \n",
    "with open('expenses.csv', 'w', newline='') as file:  \n",
    "    writer = csv.writer(file)  \n",
    "    writer.writerow([\"ID\", \"Expense_Description\", \"Amount\", \"Employee_ID\", \"Date\", \"Payment_Method\", \"Category\", \"Status\", \"Notes\", \"Department_ID\"])  \n",
    "    for i in range(1, 101):  \n",
    "        writer.writerow([i, fake.catch_phrase(), fake.pydecimal(left_digits=3, right_digits=2, positive=True), fake.random_int(min=1, max=100), fake.date_this_month(before_today=True, after_today=False), fake.random_element(elements=('Cash', 'Credit Card', 'Bank Transfer')), fake.random_element(elements=('Travel', 'Food', 'Accommodation', 'Miscellaneous')), fake.random_element(elements=('Pending', 'Approved', 'Rejected')), fake.sentence(nb_words=6), fake.random_int(min=1, max=20)])  \n"
   ]
  },
  {
   "cell_type": "code",
   "execution_count": null,
   "metadata": {},
   "outputs": [],
   "source": []
  }
 ],
 "metadata": {
  "kernelspec": {
   "display_name": "triumphai",
   "language": "python",
   "name": "python3"
  },
  "language_info": {
   "codemirror_mode": {
    "name": "ipython",
    "version": 3
   },
   "file_extension": ".py",
   "mimetype": "text/x-python",
   "name": "python",
   "nbconvert_exporter": "python",
   "pygments_lexer": "ipython3",
   "version": "3.11.9"
  }
 },
 "nbformat": 4,
 "nbformat_minor": 2
}
